{
 "cells": [
  {
   "cell_type": "code",
   "execution_count": 10,
   "id": "9e10feaa-7a7e-4a11-819c-f7cd773e2735",
   "metadata": {},
   "outputs": [
    {
     "name": "stdin",
     "output_type": "stream",
     "text": [
      "Site name: file2\n",
      "Author: poo\n",
      "Do you want a folder for JavaScript? n\n",
      "Do you want a folder for CSS? n\n"
     ]
    },
    {
     "name": "stdout",
     "output_type": "stream",
     "text": [
      "Created ./file2\n",
      "Created ./file2/index.html\n"
     ]
    }
   ],
   "source": [
    "# 43\n",
    "name=input(\"Site name:\") # assigning the input to name\n",
    "author=input(\"Author:\") # assigning input to author in string\n",
    "java=input(\"Do you want a folder for JavaScript?\")\n",
    "css=input(\"Do you want a folder for CSS?\")\n",
    "\n",
    "html_file=open(f\"{name}.html\",'w') #opening a html file named by user in input and for writing\n",
    "html_file.write(\"wlecome\") #writing the file with welcome \n",
    "# if there is no file it creates the file the name give\n",
    "if java ==\"y\": # if we want to create json file\n",
    "    java_file=open(f\"{name}.js\",'w') #opens the file\n",
    "    java_file.write(\"wlecome\")  # writes the file\n",
    "    print(f\"Created ./{name}/js\")\n",
    "     \n",
    "if css==\"y\": # if we need to create the css file\n",
    "    css = open(f'{name}.css','w') # opens the file\n",
    "    css.write(\"wlecome\")\n",
    "    print(f\"Created ./{name}/css\")\n",
    "\n",
    "print(f\"Created ./{name}\") # prints the file created\n",
    "print(f\"Created ./{name}/index.html\")\n"
   ]
  },
  {
   "cell_type": "code",
   "execution_count": 26,
   "id": "e4f4d8d7-65ec-4ca7-8fd9-3301d20c912e",
   "metadata": {},
   "outputs": [
    {
     "name": "stdin",
     "output_type": "stream",
     "text": [
      "What is the product name?  widget\n"
     ]
    },
    {
     "name": "stdout",
     "output_type": "stream",
     "text": [
      "Product: Widget\n",
      "Price: $25.0\n",
      "Quantity: 5\n"
     ]
    }
   ],
   "source": [
    "# 44\n",
    "# assigning the json data to variable\n",
    "json_data={\n",
    "    \"products\" : [\n",
    "        {\"name\": \"Widget\", \"price\": 25.00, \"quantity\": 5 },\n",
    "        {\"name\": \"Thing\", \"price\": 15.00, \"quantity\": 5 },\n",
    "        {\"name\": \"Doodad\", \"price\": 5.00, \"quantity\": 10 }\n",
    "    ]\n",
    "}\n",
    "# getting input of the name we need \n",
    "product_name = input(\"What is the product name? \").strip() # strip used to\n",
    "\n",
    "for product in json_data[\"products\"]: # for loop to access the products inside the jsondata\n",
    "    if product[\"name\"].lower() == product_name.lower(): # checks if the string from input matches the value\n",
    "        print(f\"Product: {product['name']}\")\n",
    "        print(f\"Price: ${product['price']}\") # prints the value\n",
    "        print(f\"Quantity: {product['quantity']}\")\n",
    "        break # breaking the loop after checking\n",
    "    else:\n",
    "        print(\"Sorry, that product was not found in our inventory.\") # if not it displays the sorry message\n",
    "        break # it breaks the loop\n"
   ]
  },
  {
   "cell_type": "code",
   "execution_count": 38,
   "id": "8ad63e26-659a-4df8-bb9a-448dc4ee74d1",
   "metadata": {},
   "outputs": [
    {
     "name": "stdout",
     "output_type": "stream",
     "text": [
      "Input file is One should never utilize the word \"utilize\" in\n",
      "writing. Use \"use\" instead.\n"
     ]
    },
    {
     "name": "stdin",
     "output_type": "stream",
     "text": [
      "enter the file name need to be generated output\n"
     ]
    },
    {
     "name": "stdout",
     "output_type": "stream",
     "text": [
      "new file One should never use the word \"use\" in\n",
      "writing. Use \"use\" instead.\n"
     ]
    }
   ],
   "source": [
    "# 45\n",
    "input_file=open(\"input_file.txt\",'r') # txt file is opened\n",
    "have=input_file.read() # reads the data in file\n",
    "print(f\"Input file is {have}\") # prints the data\n",
    "file=input(\"enter the file name need to be generated\")\n",
    "output_file=open(f\"{file}.txt\",'w') # opens the file with writing\n",
    "output_file.write(file.replace(\"utilize\",\"use\")) # replace() used to repalace the word \n",
    "print(f\"new file {outhave}\") # prints the output file"
   ]
  },
  {
   "cell_type": "code",
   "execution_count": 43,
   "id": "09dcb362-f945-4a8e-841b-0016004bdc77",
   "metadata": {},
   "outputs": [
    {
     "name": "stdout",
     "output_type": "stream",
     "text": [
      "badger:   *******\n",
      "mushroom: **\n",
      "snake:    *\n"
     ]
    }
   ],
   "source": [
    "# 46\n",
    "file=open(\"46ex.txt\",'r') # opens the file\n",
    "data=file.read() # reads the data\n",
    "badger=data.count('badger') # count () counts the similar words present\n",
    "mushroom =data.count('mushroom')\n",
    "snake=data.count('snake')\n",
    "print(f\"badger:   {badger * '*'}\")  # prints the count of words by * \n",
    "print(f\"mushroom: {mushroom * '*'}\") \n",
    "print(f\"snake:    {snake * '*'}\")"
   ]
  },
  {
   "cell_type": "code",
   "execution_count": 67,
   "id": "1a18035c-b9a6-4b59-8e83-a89c0b73aa31",
   "metadata": {},
   "outputs": [],
   "source": [
    "# 47\n",
    "from requests import get # impoprting get from the rquests module\n",
    "data = get(\"http://api.open-notify.org/astros.json\") # getting the file data from url\n",
    "dic= data.json()  # converting json to dictionary\n",
    "file=open(\"47ex.txt\",'w') # opening the file\n",
    "file.write(\"Name                 |Craft\\n\") # writing the file\n",
    "file.write( \"-\" * 30)\n",
    "for write in dic[\"people\"]: # looping writing the dictonaries\n",
    "    file.write(f\"{write['name']:<20} |  {write['craft']:<10}\\n\") # \n",
    "file.close() # closing the file"
   ]
  }
 ],
 "metadata": {
  "kernelspec": {
   "display_name": "Python 3 (ipykernel)",
   "language": "python",
   "name": "python3"
  },
  "language_info": {
   "codemirror_mode": {
    "name": "ipython",
    "version": 3
   },
   "file_extension": ".py",
   "mimetype": "text/x-python",
   "name": "python",
   "nbconvert_exporter": "python",
   "pygments_lexer": "ipython3",
   "version": "3.13.5"
  }
 },
 "nbformat": 4,
 "nbformat_minor": 5
}
