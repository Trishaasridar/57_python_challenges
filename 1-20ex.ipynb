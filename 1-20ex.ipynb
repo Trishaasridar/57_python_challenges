{
 "cells": [
  {
   "cell_type": "code",
   "execution_count": 11,
   "id": "5a5e8e69-3d75-43d6-a3f0-3ca77a65861b",
   "metadata": {},
   "outputs": [
    {
     "name": "stdin",
     "output_type": "stream",
     "text": [
      "what is your name ?  76\n"
     ]
    },
    {
     "name": "stdout",
     "output_type": "stream",
     "text": [
      "hello,76, nice to meet you\n"
     ]
    }
   ],
   "source": [
    "# 1 \n",
    "name = input(\"what is your name ? \") # gets the input and assigns to variable\n",
    "print (f\"hello,{name}, nice to meet you\") "
   ]
  },
  {
   "cell_type": "code",
   "execution_count": 15,
   "id": "e995adb6-1310-4126-9de4-37c017ef14ca",
   "metadata": {},
   "outputs": [
    {
     "name": "stdin",
     "output_type": "stream",
     "text": [
      "what is the input string? Hopwe\n"
     ]
    },
    {
     "name": "stdout",
     "output_type": "stream",
     "text": [
      "Hopwe has 5 characters.\n"
     ]
    }
   ],
   "source": [
    "# 2\n",
    "string=input(\"what is the input string?\")\n",
    "print(f\"{string} has {len(string)} characters.\") # using len() to calculate the string length"
   ]
  },
  {
   "cell_type": "code",
   "execution_count": 17,
   "id": "72ba444f-c098-4364-958e-66ead9fa429a",
   "metadata": {},
   "outputs": [
    {
     "name": "stdin",
     "output_type": "stream",
     "text": [
      "what is the quote? gf\n",
      "who said it jh\n"
     ]
    },
    {
     "name": "stdout",
     "output_type": "stream",
     "text": [
      "jh says, gf\n"
     ]
    }
   ],
   "source": [
    "# 3\n",
    "quote=input(\"what is the quote?\")\n",
    "author=input(\"who said it\")# getting input and assigning it to variable \n",
    "print(f\"{author} says, {quote}\")"
   ]
  },
  {
   "cell_type": "code",
   "execution_count": 19,
   "id": "31570b0b-c45e-475b-babf-b3ac7142c6b5",
   "metadata": {},
   "outputs": [
    {
     "name": "stdin",
     "output_type": "stream",
     "text": [
      "Enter a dog: dog\n",
      "Enter a verb: walk\n",
      "Enter an adjective:  blue\n",
      "Enter a adverb quickly\n"
     ]
    },
    {
     "name": "stdout",
     "output_type": "stream",
     "text": [
      "Do you walk your blue dog quickly? That's hilarious! \n"
     ]
    }
   ],
   "source": [
    "#4\n",
    "noun=input(\"Enter a dog:\")\n",
    "verb=input(\"Enter a verb:\")\n",
    "adjective=input(\"Enter an adjective: \")\n",
    "adverb=input(\"Enter a adverb\")\n",
    "# printing the input values in the print statement\n",
    "print(f\"Do you {verb} your {adjective} {noun} {adverb}? That's hilarious! \")"
   ]
  },
  {
   "cell_type": "code",
   "execution_count": 24,
   "id": "7ab0c9fa-0279-4172-8f53-c1bc16c55105",
   "metadata": {},
   "outputs": [
    {
     "name": "stdin",
     "output_type": "stream",
     "text": [
      "what is the first number? 10\n",
      "what  is the second number? 5\n"
     ]
    },
    {
     "name": "stdout",
     "output_type": "stream",
     "text": [
      "10 + 5 = 15 \n",
      "10 - 5 = 5\n",
      "10 * 5 = 50 \n",
      "10 / 5 = 2.0\n"
     ]
    }
   ],
   "source": [
    "#5\n",
    "n1=int(input(\"what is the first number?\"))\n",
    "n2=int(input(\"what  is the second number?\"))\n",
    "# getting input of two integers\n",
    "# displaying the addtion,sub ,multipication and division values of two numbers\n",
    "print(f\"{n1} + {n2} = {n1+n2} \\n{n1} - {n2} = {n1-n2}\\n{n1} * {n2} = {n1*n2} \\n{n1} / {n2} = {n1/n2}\")"
   ]
  },
  {
   "cell_type": "code",
   "execution_count": 1,
   "id": "6664ac61-eb84-4aab-b568-e8bf2ca23316",
   "metadata": {},
   "outputs": [
    {
     "name": "stdin",
     "output_type": "stream",
     "text": [
      "what is your current age? 45\n",
      "At what age would you like to retire? 60\n"
     ]
    },
    {
     "name": "stdout",
     "output_type": "stream",
     "text": [
      "You have 15 years left until you can retire.\n",
      "It's 2025, so you can retire in 2040.\n"
     ]
    }
   ],
   "source": [
    "#6\n",
    "# importing datetime to get time from sys\n",
    "from datetime import datetime \n",
    "year=datetime.now().year # assinging today's year \n",
    "age=int(input(\"what is your current age?\"))\n",
    "retire=int(input(\"At what age would you like to retire?\"))\n",
    "# subtracting retire year from age to get years left\n",
    "print(f\"You have {retire-age} years left until you can retire.\")\n",
    "print(f\"It's {year}, so you can retire in {year+(retire-age)}.\")"
   ]
  },
  {
   "cell_type": "code",
   "execution_count": 5,
   "id": "c8170bb3-c613-44d9-86d9-6b7e81cc41c6",
   "metadata": {},
   "outputs": [
    {
     "name": "stdin",
     "output_type": "stream",
     "text": [
      "what is length in feet 15\n",
      "what is width in feet 20\n"
     ]
    },
    {
     "name": "stdout",
     "output_type": "stream",
     "text": [
      "You entered dimensions of 15 feet by 20 feet.\n",
      "the area is \n",
      "300 square feet\n",
      "27.870912 square meters\n"
     ]
    }
   ],
   "source": [
    "#7\n",
    "length=int(input(\"what is length in feet\"))\n",
    "width=int(input(\"what is width in feet\")) # getting the value in integer\n",
    "# to fing area length * width\n",
    "area=length*width\n",
    "meter=area*0.09290304  # to find meter area* 0.09290304\n",
    "print(f\"You entered dimensions of {length} feet by {width} feet.\")\n",
    "print(f\"The area is \\n{area} square feet\\n{meter} square meters\")"
   ]
  },
  {
   "cell_type": "code",
   "execution_count": 15,
   "id": "106c4a1a-4358-4e85-8170-a2ec3011dc23",
   "metadata": {},
   "outputs": [
    {
     "name": "stdin",
     "output_type": "stream",
     "text": [
      "How many people? 20\n",
      "How many pizzas do you have? 2\n"
     ]
    },
    {
     "name": "stdout",
     "output_type": "stream",
     "text": [
      "20 people with 2 pizzas\n",
      "Each person gets 0 pieces of pizza.\n",
      "There are 16 leftover pieces.\n"
     ]
    }
   ],
   "source": [
    "#8\n",
    "people=int(input(\"How many people?\"))\n",
    "pizza=int(input(\"How many pizzas do you have?\"))\n",
    "# get input as integer\n",
    "slices=8\n",
    "total_slices=pizza*8  \n",
    "per_person=total_slices//people # we get per person pizza by dividing total_slices/ people with  // \n",
    "# // gives the whole numbers\n",
    "print(f\"{people} people with {pizza} pizzas\")\n",
    "print(f\"Each person gets {per_person} pieces of pizza.\")\n",
    "print(f\"There are {total_slices-(per_person*people)} leftover pieces.\")"
   ]
  },
  {
   "cell_type": "code",
   "execution_count": 20,
   "id": "eef22ed1-987c-49a8-a7af-1868d8c29034",
   "metadata": {},
   "outputs": [
    {
     "name": "stdout",
     "output_type": "stream",
     "text": [
      "You will need to purchase 2 gallons of \n",
      "paint to cover 600 square feet.\n"
     ]
    }
   ],
   "source": [
    "#9\n",
    "area_per_gallon=350 \n",
    "area=600 # 600 feet is assingned for area\n",
    "# gallons_needed to paint are area / area per gallon + 1\n",
    "gallons_need=(area//area_per_gallon)+1\n",
    "print(f\"You will need to purchase {gallons_need} gallons of \\npaint to cover {area} square feet.\")"
   ]
  },
  {
   "cell_type": "code",
   "execution_count": 31,
   "id": "23e88a40-1789-46ad-a3a2-e6870ffb24ff",
   "metadata": {},
   "outputs": [
    {
     "name": "stdin",
     "output_type": "stream",
     "text": [
      "Enter the price of item 1: 25\n",
      "Enter the quantity of item 1: 2\n",
      "Enter the price of item 2: 10\n",
      "Enter the quantity of item 2: 1\n",
      "Enter the price of item 3: 4\n",
      "Enter the quantity of item 3: 1\n"
     ]
    },
    {
     "name": "stdout",
     "output_type": "stream",
     "text": [
      "Subtotal: $64.0\n",
      "Tax: $3.52\n",
      "Total: $67.52\n"
     ]
    }
   ],
   "source": [
    "# 10\n",
    "sub_total=0 # initiating sub total as 0\n",
    "for item in range(3): # to get the price and quantity of each item\n",
    "    price=int(input(f\"Enter the price of item {item+1}:\"))\n",
    "    quantity=int(input(f\"Enter the quantity of item {item+1}:\"))\n",
    "    subtotal=price*quantity # initially subtotal is price*quantity\n",
    "    sub_total+=subtotal # adding the previous iteration values to total\n",
    "    \n",
    "tax=sub_total*(5.5/100) # calculating tax for 55%\n",
    "total=sub_total+tax\n",
    "print(f\"Subtotal: ${float(sub_total)}\")\n",
    "print(f\"Tax: ${tax}\")\n",
    "print(f\"Total: ${total}\")\n"
   ]
  },
  {
   "cell_type": "code",
   "execution_count": 35,
   "id": "310346da-ca36-41cc-b5a1-864b551fe98a",
   "metadata": {},
   "outputs": [
    {
     "name": "stdin",
     "output_type": "stream",
     "text": [
      "How many euros are you exchanging? 81\n",
      "How many euros are you exchanging? 137.51\n"
     ]
    },
    {
     "name": "stdout",
     "output_type": "stream",
     "text": [
      "81 euros at an exchange rate of 137.51 is\n",
      "111.3831 \n"
     ]
    }
   ],
   "source": [
    "# 11\n",
    "amount_from=int(input(\"How many euros are you exchanging?\"))\n",
    "rate_from=float(input(\"How many euros are you exchanging?\")) # geting input in float\n",
    "rate_to=100 # the exchange rate formula is substituted\n",
    "print(f\"{amount_from} euros at an exchange rate of {rate_from} is\\n{((amount_from*rate_from)/rate_to)} \") "
   ]
  },
  {
   "cell_type": "code",
   "execution_count": null,
   "id": "cab2929e-5615-4171-8916-da04e31790cf",
   "metadata": {},
   "outputs": [],
   "source": []
  },
  {
   "cell_type": "code",
   "execution_count": 4,
   "id": "29c18acb-552e-4635-a02f-b7736d8acf58",
   "metadata": {},
   "outputs": [
    {
     "name": "stdin",
     "output_type": "stream",
     "text": [
      "Enter the principal: 1500\n",
      "Enter the rate of interest: 4.3\n",
      "Enter the number of years: 4\n"
     ]
    },
    {
     "name": "stdout",
     "output_type": "stream",
     "text": [
      "1500\n",
      "After 4 years at 4.3%, the investment will\n",
      "be worth 27300.0.\n"
     ]
    }
   ],
   "source": [
    "# 12\n",
    "principal=int(input(\"Enter the principal:\"))\n",
    "interest=float(input(\"Enter the rate of interest:\"))\n",
    "years=int(input(\"Enter the number of years:\"))\n",
    "print(principal)\n",
    "# by substituting the interest,years,principal in formula we get investment \n",
    "print(f\"After {years} years at {interest}%, the investment will\\nbe worth {((principal * (1+(interest*years))))}.\")"
   ]
  },
  {
   "cell_type": "code",
   "execution_count": 14,
   "id": "e5ea3ffd-5f59-41d4-bdac-2bb16b297ba6",
   "metadata": {},
   "outputs": [
    {
     "name": "stdin",
     "output_type": "stream",
     "text": [
      "What is the principal amount? 1500\n",
      "What is the rate? 4.3\n",
      "What is the number of years? 6\n",
      " What is the number of times the interest\n",
      "is compounded per year? 4\n"
     ]
    },
    {
     "name": "stdout",
     "output_type": "stream",
     "text": [
      "1500.0 invested at 4.3% for 6 years\n",
      "compounded 4 times per year is $1938.8368221341054\n"
     ]
    }
   ],
   "source": [
    "# 13\n",
    "# getting input in form of float\n",
    "amount=float(input(\"What is the principal amount?\"))\n",
    "rate=float(input(\"What is the rate?\"))\n",
    "years=int(input(\"What is the number of years?\"))\n",
    "interest_per_year=int(input(\"\"\"What is the number of times the interest\n",
    "is compounded per year?\"\"\"))\n",
    "r=rate/100\n",
    "# substituting variables into formula\n",
    "power=interest_per_year*years\n",
    "a=amount*((1+(r/interest_per_year))**power)\n",
    "print(f\"{amount} invested at {rate}% for {years} years\\ncompounded {interest_per_year} times per year is ${a}\")"
   ]
  },
  {
   "cell_type": "code",
   "execution_count": 20,
   "id": "498ca72d-8be9-4244-9fa0-f2c129e3fad5",
   "metadata": {},
   "outputs": [
    {
     "name": "stdin",
     "output_type": "stream",
     "text": [
      "What is the order amount? 10\n",
      "What is the state? WI\n"
     ]
    },
    {
     "name": "stdout",
     "output_type": "stream",
     "text": [
      "    The subtotal is 10.0.\n",
      "    The tax is $0.55.\n",
      "The total is $10.0\n"
     ]
    }
   ],
   "source": [
    "# 14\n",
    "order_amount=float(input(\"What is the order amount?\"))\n",
    "state=input(\"What is the state?\")\n",
    "tax=0.55\n",
    "# when the state is WI the tax is added\n",
    "# or else no tax will be added\n",
    "if state == \"WI\":\n",
    "    print(f\"\"\"The subtotal is {order_amount}.\\nThe tax is $0.55.\"\"\")\n",
    "    total=round(order_amount+tax)\n",
    "\n",
    "print(f\"The total is ${order_amount}\")"
   ]
  },
  {
   "cell_type": "code",
   "execution_count": 22,
   "id": "731cffb0-8810-467e-a5d0-7879560f54b3",
   "metadata": {},
   "outputs": [
    {
     "name": "stdin",
     "output_type": "stream",
     "text": [
      "What is the password? dfg\n"
     ]
    },
    {
     "name": "stdout",
     "output_type": "stream",
     "text": [
      "I don't know you.\n"
     ]
    }
   ],
   "source": [
    "# 15\n",
    "password=input(\"What is the password?\")\n",
    "# if the password if abc$123 it displays welcome\n",
    "if password == \"abc$123\":\n",
    "    print(\"Welcome!\")\n",
    "# else it displays i dont know you\n",
    "else :\n",
    "    print(\"I don't know you.\")"
   ]
  },
  {
   "cell_type": "code",
   "execution_count": 23,
   "id": "bec7e0fb-bf05-4662-a89c-a4c81761394e",
   "metadata": {},
   "outputs": [
    {
     "name": "stdin",
     "output_type": "stream",
     "text": [
      "What is your age? 15\n"
     ]
    },
    {
     "name": "stdout",
     "output_type": "stream",
     "text": [
      "You are not old enough to legally drive\n"
     ]
    }
   ],
   "source": [
    "# 16\n",
    "age=int(input(\"What is your age?\"))\n",
    "# by using ternary operator print if or else statement based on conditon \n",
    "print(\"You are old enough to legally drive\" if age>15 else \"You are not old enough to legally drive\")"
   ]
  },
  {
   "cell_type": "code",
   "execution_count": 26,
   "id": "2be4b064-153d-489a-acd4-5fba45cdd787",
   "metadata": {},
   "outputs": [
    {
     "name": "stdin",
     "output_type": "stream",
     "text": [
      "Enter your Weight 34\n",
      "Enter your Gender 'M' or 'F':  m\n",
      "Enter your total alcohol consumed, in ounces 20\n",
      "Enter number of hours since the last drink 1\n"
     ]
    },
    {
     "name": "stdout",
     "output_type": "stream",
     "text": [
      "Your BAC is 4.141821112006446\n",
      "It is not legal for you to drive.\n"
     ]
    }
   ],
   "source": [
    "# 17\n",
    "W=int(input(\"Enter your Weight\"))\n",
    "r=input(\"Enter your Gender 'M' or 'F': \")\n",
    "A=float(input(\"Enter your total alcohol consumed, in ounces\"))\n",
    "H=int(input(\"Enter number of hours since the last drink\"))\n",
    "# based on male or female provide the r value\n",
    "if r == \"M\" or \"m\":\n",
    "    r=0.73\n",
    "else:\n",
    "    r=0.66\n",
    "#substitute in the formula\n",
    "bac=((A*5.14)/(W*r))-(0.15*H)//1\n",
    "print(f\"Your BAC is {bac}\") \n",
    "print(\"It is not legal for you to drive.\" if bac>0.08 else \"It is not legal for you to drive.\")"
   ]
  },
  {
   "cell_type": "code",
   "execution_count": 30,
   "id": "514f11ea-0301-42e8-b3b0-c9114eec8d2c",
   "metadata": {},
   "outputs": [
    {
     "name": "stdout",
     "output_type": "stream",
     "text": [
      "Press C to convert from Fahrenheit to Celsius.\n",
      "Press F to convert from Celsius to Fahrenheit.\n"
     ]
    },
    {
     "name": "stdin",
     "output_type": "stream",
     "text": [
      "Your choice: F\n",
      "Please enter the temperature in Fahrenheit: 32\n"
     ]
    },
    {
     "name": "stdout",
     "output_type": "stream",
     "text": [
      "The temperature in Celsius is 0.0.\n"
     ]
    }
   ],
   "source": [
    "# 18\n",
    "print(\"\"\"Press C to convert from Fahrenheit to Celsius.\n",
    "Press F to convert from Celsius to Fahrenheit.\"\"\")\n",
    "t=input(\"Your choice:\") # get the input\n",
    "if t == \"C\" or \"c\": # to convert degree to celsius\n",
    "    f=int(input(\"Please enter the temperature in Fahrenheit:\"))\n",
    "    c=(f-32)*(5/9)\n",
    "    print(f\"The temperature in Celsius is {c}.\")\n",
    "else  : # to convert from c to fahrenheit\n",
    "    c=int(input(\"Please enter the temperature in celsius:\"))\n",
    "    f=(c*(9/5))+32\n",
    "    print(f\"The temperature in Fahrenheit is {f}.\")\n",
    "    "
   ]
  },
  {
   "cell_type": "code",
   "execution_count": 37,
   "id": "f6fe5098-7815-42f5-93d7-29d6a124a056",
   "metadata": {},
   "outputs": [
    {
     "name": "stdin",
     "output_type": "stream",
     "text": [
      "Enter your Height in inches 70.8\n",
      "Enter your Weight in pound 158.7\n"
     ]
    },
    {
     "name": "stdout",
     "output_type": "stream",
     "text": [
      "Your BMI is 22.256954419228194.\n",
      "You are within the ideal weight range.\n"
     ]
    }
   ],
   "source": [
    "# 19\n",
    "H=float(input(\"Enter your Height in inches\"))\n",
    "W=float(input(\"Enter your Weight in pound\"))\n",
    "bmi=((W/(H*H))*703) # applying to formmula\n",
    "print(f\"Your BMI is {bmi}.\")\n",
    "if 18.5<=bmi<=25:  # if between 18.5 to 25 prints ideal bmi\n",
    "    print(\"You are within the ideal weight range.\")\n",
    "elif bmi>=25: # if greater than 25 prints overweight\n",
    "    print(\"You are overweight. You should see your doctor.\")\n",
    "else : # if below prints underweight\n",
    "    print(\"You are underweight. You should see your doctor.\")"
   ]
  },
  {
   "cell_type": "code",
   "execution_count": 1,
   "id": "ad88f74e-c09f-47f0-b7b1-d58a0ab51c5a",
   "metadata": {},
   "outputs": [
    {
     "name": "stdin",
     "output_type": "stream",
     "text": [
      "What is the order amount? 10\n",
      "What state do you live in? Wisconsin\n",
      "What county do you live in? Eau Claire\n"
     ]
    },
    {
     "name": "stdout",
     "output_type": "stream",
     "text": [
      "The tax is $0.55.\n",
      "The total is $10.55.\n"
     ]
    }
   ],
   "source": [
    "# 20\n",
    "amount=int(input(\"What is the order amount?\"))\n",
    "amount=round(amount)\n",
    "state=input(\"What state do you live in?\")\n",
    "county=input(\"What county do you live in?\")\n",
    "if state == \"Wisconsin\": #if the state is wisconsin the tax differs according to county\n",
    "    if county == \"Eau Claire\":\n",
    "        tax = amount*(0.005+0.05)\n",
    "        total=amount+tax\n",
    "    elif county ==\"Dunn\":\n",
    "        tax = amount*(0.004+0.05)\n",
    "        total=amount+tax\n",
    "elif state== \"Illinois\":\n",
    "    tax=amount*0.08\n",
    "    total=tax+amount\n",
    "else : # other states have no tax\n",
    "    tax=0\n",
    "    total=amount\n",
    "    \n",
    "print(f\"The tax is ${tax}.\\nThe total is ${total}.\")\n"
   ]
  },
  {
   "cell_type": "code",
   "execution_count": null,
   "id": "e37f0c5b-e2e8-4ff9-b886-ff7e923a2bda",
   "metadata": {},
   "outputs": [],
   "source": [
    "# 42\n"
   ]
  }
 ],
 "metadata": {
  "kernelspec": {
   "display_name": "Python 3 (ipykernel)",
   "language": "python",
   "name": "python3"
  },
  "language_info": {
   "codemirror_mode": {
    "name": "ipython",
    "version": 3
   },
   "file_extension": ".py",
   "mimetype": "text/x-python",
   "name": "python",
   "nbconvert_exporter": "python",
   "pygments_lexer": "ipython3",
   "version": "3.13.5"
  }
 },
 "nbformat": 4,
 "nbformat_minor": 5
}
