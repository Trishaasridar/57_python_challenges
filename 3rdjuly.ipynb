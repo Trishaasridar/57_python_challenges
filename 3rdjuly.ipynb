{
 "cells": [
  {
   "cell_type": "code",
   "execution_count": 13,
   "id": "3870efaf-b334-49c7-862d-8f013d87368c",
   "metadata": {},
   "outputs": [
    {
     "name": "stdin",
     "output_type": "stream",
     "text": [
      "What is the rate of return? 0\n"
     ]
    },
    {
     "name": "stdout",
     "output_type": "stream",
     "text": [
      "sorry invalid input\n"
     ]
    },
    {
     "name": "stdin",
     "output_type": "stream",
     "text": [
      "What is the rate of return? sd\n"
     ]
    },
    {
     "name": "stdout",
     "output_type": "stream",
     "text": [
      "sorry invalid input\n"
     ]
    },
    {
     "name": "stdin",
     "output_type": "stream",
     "text": [
      "What is the rate of return? 2\n"
     ]
    },
    {
     "name": "stdout",
     "output_type": "stream",
     "text": [
      "It will take 36.0 years to double your initial investment.\n"
     ]
    }
   ],
   "source": [
    "# 29\n",
    "while True:\n",
    "    rate=input(\"What is the rate of return?\")\n",
    "    if rate == \"0\":\n",
    "        print(\"sorry invalid input\")   \n",
    "    elif not rate.isdigit():\n",
    "        print(\"sorry invalid input\")\n",
    "    else : \n",
    "        break\n",
    "rate= int(rate)\n",
    "year=72/ rate\n",
    "print(f\"It will take {year} years to double your initial investment.\")"
   ]
  },
  {
   "cell_type": "code",
   "execution_count": 30,
   "id": "de97d78c-cd36-4364-8710-56da611b1446",
   "metadata": {},
   "outputs": [
    {
     "name": "stdin",
     "output_type": "stream",
     "text": [
      "Resting pulse? 65\n",
      "Age: 22\n"
     ]
    },
    {
     "name": "stdout",
     "output_type": "stream",
     "text": [
      "Resting Pulse:65\t Age:22\n",
      "Intensity\t|Rate\n",
      "------------------------------\n",
      "55%\t\t|138 bpm\n",
      "60%\t\t|145 bpm\n",
      "65%\t\t|151 bpm\n",
      "70%\t\t|158 bpm\n",
      "75%\t\t|165 bpm\n",
      "80%\t\t|171 bpm\n",
      "85%\t\t|178 bpm\n",
      "90%\t\t|185 bpm\n",
      "95%\t\t|191 bpm\n"
     ]
    }
   ],
   "source": [
    "# 31\n",
    "pulse=int(input(\"Resting pulse?\"))\n",
    "age=int(input(\"Age:\"))\n",
    "print(f\"Resting Pulse:{pulse}\\t Age:{age}\")\n",
    "print(\"Intensity\\t|Rate\")\n",
    "print(\"-\" * 30)\n",
    "for i in range(55,96,5):\n",
    "    intensity=i/100\n",
    "    rate=(((220-age)-pulse)*intensity)+pulse\n",
    "    r=round(rate)\n",
    "    print(f\"{i}%\\t\\t|{r} bpm\")\n",
    "    "
   ]
  },
  {
   "cell_type": "code",
   "execution_count": 10,
   "id": "ca381333-994a-4a93-bd32-d909f4fba8a3",
   "metadata": {},
   "outputs": [
    {
     "name": "stdout",
     "output_type": "stream",
     "text": [
      "Let's play Guess the Number.\n"
     ]
    },
    {
     "name": "stdin",
     "output_type": "stream",
     "text": [
      "Pick a difficulty level (1, 2, or 3): 1\n",
      "I have my number. what's your guess 6\n",
      "Too high. Guess again: 3\n",
      "Too high. Guess again: 1\n"
     ]
    },
    {
     "name": "stdout",
     "output_type": "stream",
     "text": [
      "You got it in 3 guesses!\n"
     ]
    },
    {
     "name": "stdin",
     "output_type": "stream",
     "text": [
      "play again? for yes : 'y' for no : 'n'  n\n"
     ]
    },
    {
     "name": "stdout",
     "output_type": "stream",
     "text": [
      "goodbye!\n"
     ]
    }
   ],
   "source": [
    "# 32\n",
    "import random\n",
    "\n",
    "def difficultyLevel(level):\n",
    "    if level ==1:\n",
    "        number=random.randint(1,10)\n",
    "        n=int(input(\"I have my number. what's your guess\"))\n",
    "        for count in range(10):\n",
    "            if n > number:\n",
    "                n=int(input(\"Too high. Guess again:\"))\n",
    "            elif n < number:\n",
    "                n=int(input(\"Too low. Guess again:\"))\n",
    "            elif n== number:\n",
    "                print(f\"You got it in {count+1} guesses!\")\n",
    "                break\n",
    "    \n",
    "    elif level ==2:\n",
    "        number=random.randint(1,100)\n",
    "        n=int(input(\"I have my number. what's your guess\"))\n",
    "        for count in range(100):\n",
    "            if n > number:\n",
    "                n=int(input(\"Too high. Guess again:\"))\n",
    "            elif n < number:\n",
    "                n=int(input(\"Too low. Guess again:\"))\n",
    "            elif n== number:\n",
    "                print(f\"You got it in {count+1} guesses!\")\n",
    "                break\n",
    "    \n",
    "    elif level == 3:\n",
    "        number=random.randint(1,1000)\n",
    "        n=int(input(\"I have my number. what's your guess\"))\n",
    "        for count in range(1000):\n",
    "            if n > number:\n",
    "                n=int(input(\"Too high. Guess again:\"))\n",
    "            elif n < number:\n",
    "                n=int(input(\"Too low. Guess again:\"))\n",
    "            elif n== number:\n",
    "                print(f\"You got it in {count+1} guesses!\")\n",
    "                break\n",
    "\n",
    "print(\"Let's play Guess the Number.\")\n",
    "level=int(input(\"Pick a difficulty level (1, 2, or 3):\"))\n",
    "difficultyLevel(level)\n",
    "again=input(\"play again? for yes : 'y' for no : 'n' \")\n",
    "if again == \"y\":\n",
    "    level=int(input(\"Pick a difficulty level (1, 2, or 3):\"))\n",
    "    difficultyLevel(level)\n",
    "elif again == \"n\" :\n",
    "    print(\"goodbye!\")"
   ]
  },
  {
   "cell_type": "code",
   "execution_count": null,
   "id": "1039d0ee-303e-45ab-817d-5ea4d782036a",
   "metadata": {},
   "outputs": [],
   "source": [
    "# 33\n"
   ]
  }
 ],
 "metadata": {
  "kernelspec": {
   "display_name": "Python 3 (ipykernel)",
   "language": "python",
   "name": "python3"
  },
  "language_info": {
   "codemirror_mode": {
    "name": "ipython",
    "version": 3
   },
   "file_extension": ".py",
   "mimetype": "text/x-python",
   "name": "python",
   "nbconvert_exporter": "python",
   "pygments_lexer": "ipython3",
   "version": "3.13.5"
  }
 },
 "nbformat": 4,
 "nbformat_minor": 5
}
