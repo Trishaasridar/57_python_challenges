{
 "cells": [
  {
   "cell_type": "code",
   "execution_count": 52,
   "id": "8dc541f5-b620-4da7-9a99-23841321137d",
   "metadata": {},
   "outputs": [
    {
     "name": "stdin",
     "output_type": "stream",
     "text": [
      "the post you need from 1 to 100: 37\n"
     ]
    },
    {
     "name": "stdout",
     "output_type": "stream",
     "text": [
      "{'userId': 4, 'id': 37, 'title': 'provident vel ut sit ratione est', 'body': 'debitis et eaque non officia sed nesciunt pariatur vel\\nvoluptatem iste vero et ea\\nnumquam aut expedita ipsum nulla in\\nvoluptates omnis consequatur aut enim officiis in quam qui'}\n",
      "\n",
      "The post '37' has title: 'provident vel ut sit ratione est' \n"
     ]
    }
   ],
   "source": [
    "# 48\n",
    "from requests import get # importing get from the requests\n",
    "post=int(input(\"the post you need from 1 to 100:\")) # getting input which post should be displayed\n",
    "url=f\"https://jsonplaceholder.typicode.com/posts/{post}\" # assigning the url\n",
    "getting =requests.get(url) # getting the response of url\n",
    "jdata=getting.json() # changing json to dict data\n",
    "print(jdata)  # dispalying the entire post\n",
    "\n",
    "print(f\"The post '{post}' has title: '{jdata[\"title\"]}' \")  # displaying the key we need from dict"
   ]
  },
  {
   "cell_type": "code",
   "execution_count": 54,
   "id": "99c1405e-37bd-4053-b9f8-c919d5d3d8d0",
   "metadata": {},
   "outputs": [],
   "source": [
    "# 49\n",
    "\n",
    "import requests  # import requests \n",
    "from PIL import Image  # pil for displaying\n",
    "\n",
    "url = \"https://picsum.photos/200/300/?blur=3\"\n",
    "response = requests.get(url)  # geting response\n",
    "\n",
    "# for saving the file\n",
    "with open(\"temp_image.jpg\", \"wb\") as f: # it saves the img in the file png by opening it in write and byte mode\n",
    "    f.write(response.content)  #writes the file using .content\n",
    "\n",
    "\n",
    "img = Image.open(\"temp_image.jpg\")  # this used to open the image file\n",
    "img.show() # shows the file in image viewer\n"
   ]
  },
  {
   "cell_type": "code",
   "execution_count": 1,
   "id": "e3ad622e-c0e9-480c-8a4e-3b01e850b7b9",
   "metadata": {},
   "outputs": [
    {
     "data": {
      "text/html": [
       "<img src=\"https://picsum.photos/200/300/?blur=2\"/>"
      ],
      "text/plain": [
       "<IPython.core.display.Image object>"
      ]
     },
     "metadata": {},
     "output_type": "display_data"
    }
   ],
   "source": [
    "# 49\n",
    "from IPython.display import Image, display # imports Image display from Ipython.display\n",
    "# the image class gets and requests the url\n",
    "url = \"https://picsum.photos/200/300/?blur=2\" \n",
    "display(Image(url=url)) # displays the image directly from the url\n",
    "# does not save the image"
   ]
  },
  {
   "cell_type": "code",
   "execution_count": 62,
   "id": "4a49d5ce-830f-4814-8bd4-30ddf3e325fc",
   "metadata": {},
   "outputs": [
    {
     "name": "stdin",
     "output_type": "stream",
     "text": [
      "Give no from 1 to 200: 40\n"
     ]
    },
    {
     "name": "stdout",
     "output_type": "stream",
     "text": [
      "userId: 2\n",
      "id: 40\n",
      "title: totam atque quo nesciunt\n",
      "completed: True\n"
     ]
    }
   ],
   "source": [
    "# 49\n",
    "from requests import get\n",
    "no=int(input(\"Give no from 1 to 200:\"))\n",
    "url=f\"https://jsonplaceholder.typicode.com/todos/{no}\"\n",
    "response=get(url)\n",
    "dic=response.json()\n",
    "for key,data in dic.items():\n",
    "    print(f\"{key}: {data}\")"
   ]
  },
  {
   "cell_type": "code",
   "execution_count": null,
   "id": "81032ceb-965f-4fdb-9f06-311bd6619056",
   "metadata": {},
   "outputs": [],
   "source": []
  }
 ],
 "metadata": {
  "kernelspec": {
   "display_name": "Python 3 (ipykernel)",
   "language": "python",
   "name": "python3"
  },
  "language_info": {
   "codemirror_mode": {
    "name": "ipython",
    "version": 3
   },
   "file_extension": ".py",
   "mimetype": "text/x-python",
   "name": "python",
   "nbconvert_exporter": "python",
   "pygments_lexer": "ipython3",
   "version": "3.13.5"
  }
 },
 "nbformat": 4,
 "nbformat_minor": 5
}
