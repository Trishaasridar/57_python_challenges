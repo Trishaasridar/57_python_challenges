{
 "cells": [
  {
   "cell_type": "code",
   "execution_count": 2,
   "id": "76716391-e3d1-4b20-8c52-949f607a7596",
   "metadata": {},
   "outputs": [
    {
     "name": "stdout",
     "output_type": "stream",
     "text": [
      "Total of 7 names\n",
      "------------------\n",
      "Ling, Mai\n",
      "Johnson, Jim\n",
      "Zarnecki, Sabrina\n",
      "Jones, Chris\n",
      "Jones, Aaron\n",
      "Swift, Geoffrey\n",
      "Xiong, Fong\n"
     ]
    }
   ],
   "source": [
    "# 41\n",
    "txt=open(\"41ex.txt\") # opens the file 41ex.txt\n",
    "print(f\"Total of {len(txt.readlines())} names\") # prints the length of lines in file\n",
    "print(\"-\" * 18)\n",
    "txt.seek(0) # to replace the poiter to the starting\n",
    "print(txt.read()) # prints the file\n",
    "txt.close() # closes the file"
   ]
  },
  {
   "cell_type": "code",
   "execution_count": 30,
   "id": "a6ec5544-62be-44be-a8d9-2a075426057f",
   "metadata": {},
   "outputs": [
    {
     "name": "stdout",
     "output_type": "stream",
     "text": [
      "Last         First        Salary      \n",
      "------------------------------\n",
      "Ling         Mai           55900       \n",
      "Johnson      Jim           56500       \n",
      "Jones        Aaron         46000       \n",
      "Jones        Chris         34500       \n",
      "Swift        Geoffrey      14200       \n",
      "Xiong        Fong          65000       \n",
      "Zarnecki     Sabrina       51500       \n"
     ]
    }
   ],
   "source": [
    "# 42\n",
    "txt=open(\"42ex.txt\") # opens the file\n",
    "file=txt.readlines() # read the line\n",
    "\n",
    "print(f\"{'Last':<12} {'First':<12} {'Salary':<12}\") # prints with the space of 12 \n",
    "print(\"-\" * 30) # prints - 30 times\n",
    "\n",
    "for line in file: # looping for every lines in file\n",
    "    # striping and spliting the line\n",
    "    table=line.strip().split(\",\") \n",
    "    print(f\"{table[0]:<12} {table[1]:<12}  {table[2]:<12}\") # prints the elements on index 0, 1, 2 seperately by spaces\n",
    "    "
   ]
  },
  {
   "cell_type": "markdown",
   "id": "19b027fb-8d47-4f4c-ac5d-af4beee10349",
   "metadata": {},
   "source": []
  }
 ],
 "metadata": {
  "kernelspec": {
   "display_name": "Python 3 (ipykernel)",
   "language": "python",
   "name": "python3"
  },
  "language_info": {
   "codemirror_mode": {
    "name": "ipython",
    "version": 3
   },
   "file_extension": ".py",
   "mimetype": "text/x-python",
   "name": "python",
   "nbconvert_exporter": "python",
   "pygments_lexer": "ipython3",
   "version": "3.13.5"
  }
 },
 "nbformat": 4,
 "nbformat_minor": 5
}
