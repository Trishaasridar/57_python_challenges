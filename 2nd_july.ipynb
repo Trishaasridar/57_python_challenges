{
 "cells": [
  {
   "cell_type": "code",
   "execution_count": 12,
   "id": "697425b0-cb0a-4a79-bef9-035e1d75bb14",
   "metadata": {},
   "outputs": [
    {
     "name": "stdin",
     "output_type": "stream",
     "text": [
      "Please enter the number of the month:  4\n"
     ]
    },
    {
     "name": "stdout",
     "output_type": "stream",
     "text": [
      " The name of the month is April.\n"
     ]
    }
   ],
   "source": [
    "# 21\n",
    "num=int(input(\"Please enter the number of the month: \"))\n",
    "\n",
    "if num== 1:\n",
    "    month=\"January\"\n",
    "elif num==2:\n",
    "    month=\"Feburary\"\n",
    "elif num==3:\n",
    "    month=\"March\"\n",
    "elif num==4:\n",
    "    month=\"April\"\n",
    "elif num==5:\n",
    "    month=\"May\"\n",
    "elif num==6:\n",
    "    month=\"June\"\n",
    "elif num==7:\n",
    "    month=\"July\"\n",
    "elif num==8:\n",
    "    month=\"August\"\n",
    "elif num==9:\n",
    "    month=\"september\"\n",
    "elif num==10:\n",
    "    month=\"october\"\n",
    "elif num==11:\n",
    "    month=\"November\"\n",
    "elif num==12:\n",
    "    month=\"december\"\n",
    "\n",
    "print(f\"The name of the month is {month}.\")"
   ]
  },
  {
   "cell_type": "code",
   "execution_count": 14,
   "id": "6768fb9f-2b55-49cf-89f5-1947b1a44d99",
   "metadata": {},
   "outputs": [
    {
     "name": "stdin",
     "output_type": "stream",
     "text": [
      "Enter the first number: 22\n",
      "Enter the second number: 21\n",
      "Enter the third number: 23\n"
     ]
    },
    {
     "name": "stdout",
     "output_type": "stream",
     "text": [
      "The largest number is 23.0.\n"
     ]
    }
   ],
   "source": [
    "# 22\n",
    "from sys import exit\n",
    "num1=float(input(\"Enter the first number:\"))\n",
    "num2=float(input(\"Enter the second number:\"))\n",
    "num3=float(input(\"Enter the third number:\"))\n",
    "if num1==num2 or num2==num3 or num3==num1 :\n",
    "    print(\"enter 3 different numbers\")\n",
    "    exit(0)\n",
    "else:\n",
    "    print(f\"The largest number is {max(num1,num2,num3)}.\")"
   ]
  },
  {
   "cell_type": "code",
   "execution_count": 20,
   "id": "0cb8f90a-da73-40bd-a688-3931b3b93970",
   "metadata": {},
   "outputs": [
    {
     "name": "stdin",
     "output_type": "stream",
     "text": [
      "Is the car silent when you turn the key? n\n",
      "Does the car make clicking noise? n\n",
      "Does the car crank up but fail to start? n\n",
      " Does the engine start and then die? y\n",
      "Does your have fuel injection? n\n"
     ]
    },
    {
     "name": "stdout",
     "output_type": "stream",
     "text": [
      "Check to ensure the choke is opening and closing\n"
     ]
    }
   ],
   "source": [
    "# 23\n",
    "car=input(\"Is the car silent when you turn the key?\")\n",
    "if car==\"y\":\n",
    "    corroded=input(\"Are the battery terminals corroded?\")\n",
    "    if correded == \"y\":\n",
    "        print(\" Clean terminals and try starting again.\")\n",
    "    elif corroded==\"n\":\n",
    "        print(\"The battery cables may be damaged.\\nReplace cables and try again.\")\n",
    "if car == \"n\":\n",
    "    noice=input(\"Does the car make clicking noise?\")\n",
    "    if noice==\"y\":\n",
    "        print(\"Replace the battery\")\n",
    "    elif noice == \"n\":\n",
    "        crank=input(\"Does the car crank up but fail to start?\")\n",
    "        if crank==\"y\":\n",
    "            print(\"Check spark plug connections.\")\n",
    "        elif crank==\"n\":\n",
    "            startdie=input(\" Does the engine start and then die?\")\n",
    "            if startdie==\"y\":\n",
    "                injection=input(\"Does your have fuel injection?\")\n",
    "                if injection==\"y\":\n",
    "                    print(\"Get it in for service\")\n",
    "                elif injection==\"n\":\n",
    "                    print(\"Check to ensure the choke is opening and closing\")\n",
    "                "
   ]
  },
  {
   "cell_type": "code",
   "execution_count": 24,
   "id": "15f1b52d-4674-42ac-8d69-761923d08d64",
   "metadata": {},
   "outputs": [
    {
     "name": "stdout",
     "output_type": "stream",
     "text": [
      "Enter two strings and I'll tell you if they\n",
      "are anagrams:\n"
     ]
    },
    {
     "name": "stdin",
     "output_type": "stream",
     "text": [
      "Enter the first string: toone\n",
      "Enter thr second string: noote\n"
     ]
    },
    {
     "name": "stdout",
     "output_type": "stream",
     "text": [
      " 'toone' and 'noote' are anagrams.\n"
     ]
    }
   ],
   "source": [
    "# 24\n",
    "def isAnagram(str1,str2):\n",
    "    if len(str1.lower())==len(str2.lower()):\n",
    "        if sorted(str1) == sorted(str2):\n",
    "            print(f\"'{str1}' and '{str2}' are anagrams.\")\n",
    "    else:\n",
    "        print(\"Not anagram\")\n",
    "\n",
    "print(\"Enter two strings and I'll tell you if they\\nare anagrams:\")\n",
    "string1=input(\"Enter the first string:\")\n",
    "string2=input(\"Enter thr second string:\")\n",
    "isAnagram(string1,string2)"
   ]
  },
  {
   "cell_type": "code",
   "execution_count": null,
   "id": "fdfc0073-7ab5-48c2-bf2c-c50e5f4e574c",
   "metadata": {},
   "outputs": [],
   "source": [
    "# 25\n",
    "def passwordValidator(password):\n",
    "    \n",
    "        if string.isalpha:\n",
    "            \n",
    "        elif string.isnum:\n",
    "            \n",
    "        elif string.isalnum:\n",
    "            \n",
    "\n",
    "        \n",
    "password=input(\"enter the password\")\n",
    "strength=passwordValidator"
   ]
  },
  {
   "cell_type": "code",
   "execution_count": 2,
   "id": "e46816d8-459b-4f37-a208-98580c281e67",
   "metadata": {},
   "outputs": [
    {
     "name": "stdin",
     "output_type": "stream",
     "text": [
      "What is your balance? 1500\n",
      "What is the APR on the card (as a percent)? 12\n",
      "What is the monthly payment you can make? 100\n"
     ]
    },
    {
     "name": "stdout",
     "output_type": "stream",
     "text": [
      "It will take you 17 months to pay off this card.\n"
     ]
    }
   ],
   "source": [
    "# 26\n",
    "import math\n",
    "def calculateMonthsUntilPaidOff(b,i,p):\n",
    "    log = math.log(1 + (b / p) * (1 - math.pow(1 + i, 30)))\n",
    "    log2 = math.log(1+i)\n",
    "    n=-1 * (1/30) * (log/log2)\n",
    "    return math.ceil(n)\n",
    "\n",
    "b=float(input(\"What is your balance?\"))\n",
    "APR=int(input(\"What is the APR on the card (as a percent)?\"))\n",
    "i=APR/100/365\n",
    "p=float(input(\"What is the monthly payment you can make?\"))\n",
    "n = calculateMonthsUntilPaidOff(b,i,p)\n",
    "print(f\"It will take you {n} months to pay off this card.\")"
   ]
  },
  {
   "cell_type": "code",
   "execution_count": 17,
   "id": "11a992c0-7649-40fc-878d-454401355fef",
   "metadata": {},
   "outputs": [
    {
     "name": "stdin",
     "output_type": "stream",
     "text": [
      "Enter the first name:  j\n",
      "Enter the last name:  jhs\n",
      "Enter the zip code:  2637\n",
      "Enter the employee ID:  aa-324\n"
     ]
    },
    {
     "name": "stdout",
     "output_type": "stream",
     "text": [
      "'j' is not a valid first name. It is too short.\n",
      "The ZIP code must be numeric.\n",
      "aa-324 is  valid\n"
     ]
    }
   ],
   "source": [
    "# 27\n",
    "def characters(first_name,last_name):\n",
    "    if first_name==\" \" and last_name == \" \":\n",
    "        print(\"both names should be filled\")\n",
    "    if len(first_name)  <=2 :\n",
    "        print(f\"'{first_name}' is not a valid first name. It is too short.\")\n",
    "    elif len(last_name) <=2 :\n",
    "        print(f\" '{last_name}' is not a valid last name. It is too short.\")\n",
    "    \n",
    "    \n",
    "def ziP(code):\n",
    "    if code.isalpha:\n",
    "        print(\"The ZIP code must be numeric.\")\n",
    "    else :\n",
    "        print(\"the code should be in integer\")\n",
    "\n",
    "def valid(ID):\n",
    "    if len(ID) != 6:\n",
    "        print(f\"{ID} is not valid should be in 6 characters\")\n",
    "    if not ID[0].isalpha or not ID[1].isalpha :\n",
    "        print(f\"{ID} is not valid ,the first 2 charaters should be in alphabets\")\n",
    "    if ID[2] != \"-\":\n",
    "        print(f\"{ID} is not valid , the 3rd character should be hyphen\")\n",
    "    if not(ID[3:].isdigit() ):\n",
    "        print(f\"{ID} is not valid , the last 3 should be numbers\")\n",
    "    else:\n",
    "        print(f\"{ID} is  valid\")\n",
    "\n",
    "first_name = input(\"Enter the first name: \")\n",
    "last_name = input(\"Enter the last name: \")\n",
    "code = input(\"Enter the zip code: \")\n",
    "ID = input(\"Enter the employee ID: \")\n",
    "\n",
    "characters(first_name,last_name)\n",
    "ziP(code)\n",
    "valid(ID)"
   ]
  },
  {
   "cell_type": "code",
   "execution_count": 21,
   "id": "3821bfe5-b677-4bd4-99b4-ec3170b60e97",
   "metadata": {},
   "outputs": [
    {
     "name": "stdin",
     "output_type": "stream",
     "text": [
      "Enter a number:  1\n",
      "Enter a number:  2\n",
      "Enter a number:  3\n",
      "Enter a number:  4\n",
      "Enter a number:  5\n"
     ]
    },
    {
     "name": "stdout",
     "output_type": "stream",
     "text": [
      "The total is 15\n"
     ]
    }
   ],
   "source": [
    "# 28\n",
    "sum=0\n",
    "for num in range(5):\n",
    "    number=int(input(f\"Enter a number: \"))\n",
    "    sum+=number\n",
    "print(f\"The total is {sum}\")"
   ]
  },
  {
   "cell_type": "code",
   "execution_count": 23,
   "id": "f98534de-5a46-4ed2-ace4-6ea0c14ffb74",
   "metadata": {},
   "outputs": [
    {
     "name": "stdout",
     "output_type": "stream",
     "text": [
      "0 x 0 = 0\n",
      "0 x 1 = 0\n",
      "0 x 2 = 0\n",
      "0 x 3 = 0\n",
      "0 x 4 = 0\n",
      "0 x 5 = 0\n",
      "0 x 6 = 0\n",
      "0 x 7 = 0\n",
      "0 x 8 = 0\n",
      "0 x 9 = 0\n",
      "0 x 10 = 0\n",
      "0 x 11 = 0\n",
      "0 x 12 = 0\n",
      "1 x 0 = 0\n",
      "1 x 1 = 1\n",
      "1 x 2 = 2\n",
      "1 x 3 = 3\n",
      "1 x 4 = 4\n",
      "1 x 5 = 5\n",
      "1 x 6 = 6\n",
      "1 x 7 = 7\n",
      "1 x 8 = 8\n",
      "1 x 9 = 9\n",
      "1 x 10 = 10\n",
      "1 x 11 = 11\n",
      "1 x 12 = 12\n",
      "2 x 0 = 0\n",
      "2 x 1 = 2\n",
      "2 x 2 = 4\n",
      "2 x 3 = 6\n",
      "2 x 4 = 8\n",
      "2 x 5 = 10\n",
      "2 x 6 = 12\n",
      "2 x 7 = 14\n",
      "2 x 8 = 16\n",
      "2 x 9 = 18\n",
      "2 x 10 = 20\n",
      "2 x 11 = 22\n",
      "2 x 12 = 24\n",
      "3 x 0 = 0\n",
      "3 x 1 = 3\n",
      "3 x 2 = 6\n",
      "3 x 3 = 9\n",
      "3 x 4 = 12\n",
      "3 x 5 = 15\n",
      "3 x 6 = 18\n",
      "3 x 7 = 21\n",
      "3 x 8 = 24\n",
      "3 x 9 = 27\n",
      "3 x 10 = 30\n",
      "3 x 11 = 33\n",
      "3 x 12 = 36\n",
      "4 x 0 = 0\n",
      "4 x 1 = 4\n",
      "4 x 2 = 8\n",
      "4 x 3 = 12\n",
      "4 x 4 = 16\n",
      "4 x 5 = 20\n",
      "4 x 6 = 24\n",
      "4 x 7 = 28\n",
      "4 x 8 = 32\n",
      "4 x 9 = 36\n",
      "4 x 10 = 40\n",
      "4 x 11 = 44\n",
      "4 x 12 = 48\n",
      "5 x 0 = 0\n",
      "5 x 1 = 5\n",
      "5 x 2 = 10\n",
      "5 x 3 = 15\n",
      "5 x 4 = 20\n",
      "5 x 5 = 25\n",
      "5 x 6 = 30\n",
      "5 x 7 = 35\n",
      "5 x 8 = 40\n",
      "5 x 9 = 45\n",
      "5 x 10 = 50\n",
      "5 x 11 = 55\n",
      "5 x 12 = 60\n",
      "6 x 0 = 0\n",
      "6 x 1 = 6\n",
      "6 x 2 = 12\n",
      "6 x 3 = 18\n",
      "6 x 4 = 24\n",
      "6 x 5 = 30\n",
      "6 x 6 = 36\n",
      "6 x 7 = 42\n",
      "6 x 8 = 48\n",
      "6 x 9 = 54\n",
      "6 x 10 = 60\n",
      "6 x 11 = 66\n",
      "6 x 12 = 72\n",
      "7 x 0 = 0\n",
      "7 x 1 = 7\n",
      "7 x 2 = 14\n",
      "7 x 3 = 21\n",
      "7 x 4 = 28\n",
      "7 x 5 = 35\n",
      "7 x 6 = 42\n",
      "7 x 7 = 49\n",
      "7 x 8 = 56\n",
      "7 x 9 = 63\n",
      "7 x 10 = 70\n",
      "7 x 11 = 77\n",
      "7 x 12 = 84\n",
      "8 x 0 = 0\n",
      "8 x 1 = 8\n",
      "8 x 2 = 16\n",
      "8 x 3 = 24\n",
      "8 x 4 = 32\n",
      "8 x 5 = 40\n",
      "8 x 6 = 48\n",
      "8 x 7 = 56\n",
      "8 x 8 = 64\n",
      "8 x 9 = 72\n",
      "8 x 10 = 80\n",
      "8 x 11 = 88\n",
      "8 x 12 = 96\n",
      "9 x 0 = 0\n",
      "9 x 1 = 9\n",
      "9 x 2 = 18\n",
      "9 x 3 = 27\n",
      "9 x 4 = 36\n",
      "9 x 5 = 45\n",
      "9 x 6 = 54\n",
      "9 x 7 = 63\n",
      "9 x 8 = 72\n",
      "9 x 9 = 81\n",
      "9 x 10 = 90\n",
      "9 x 11 = 99\n",
      "9 x 12 = 108\n",
      "10 x 0 = 0\n",
      "10 x 1 = 10\n",
      "10 x 2 = 20\n",
      "10 x 3 = 30\n",
      "10 x 4 = 40\n",
      "10 x 5 = 50\n",
      "10 x 6 = 60\n",
      "10 x 7 = 70\n",
      "10 x 8 = 80\n",
      "10 x 9 = 90\n",
      "10 x 10 = 100\n",
      "10 x 11 = 110\n",
      "10 x 12 = 120\n",
      "11 x 0 = 0\n",
      "11 x 1 = 11\n",
      "11 x 2 = 22\n",
      "11 x 3 = 33\n",
      "11 x 4 = 44\n",
      "11 x 5 = 55\n",
      "11 x 6 = 66\n",
      "11 x 7 = 77\n",
      "11 x 8 = 88\n",
      "11 x 9 = 99\n",
      "11 x 10 = 110\n",
      "11 x 11 = 121\n",
      "11 x 12 = 132\n",
      "12 x 0 = 0\n",
      "12 x 1 = 12\n",
      "12 x 2 = 24\n",
      "12 x 3 = 36\n",
      "12 x 4 = 48\n",
      "12 x 5 = 60\n",
      "12 x 6 = 72\n",
      "12 x 7 = 84\n",
      "12 x 8 = 96\n",
      "12 x 9 = 108\n",
      "12 x 10 = 120\n",
      "12 x 11 = 132\n",
      "12 x 12 = 144\n"
     ]
    }
   ],
   "source": [
    "# 30\n",
    "for c in range(13):\n",
    "    for r in range(13):\n",
    "        print(f\"{c} x {r} = {c*r}\")\n"
   ]
  }
 ],
 "metadata": {
  "kernelspec": {
   "display_name": "Python 3 (ipykernel)",
   "language": "python",
   "name": "python3"
  },
  "language_info": {
   "codemirror_mode": {
    "name": "ipython",
    "version": 3
   },
   "file_extension": ".py",
   "mimetype": "text/x-python",
   "name": "python",
   "nbconvert_exporter": "python",
   "pygments_lexer": "ipython3",
   "version": "3.13.5"
  }
 },
 "nbformat": 4,
 "nbformat_minor": 5
}
