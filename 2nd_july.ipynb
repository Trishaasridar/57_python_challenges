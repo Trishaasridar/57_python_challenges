{
 "cells": [
  {
   "cell_type": "code",
   "execution_count": 12,
   "id": "697425b0-cb0a-4a79-bef9-035e1d75bb14",
   "metadata": {},
   "outputs": [
    {
     "name": "stdin",
     "output_type": "stream",
     "text": [
      "Please enter the number of the month:  4\n"
     ]
    },
    {
     "name": "stdout",
     "output_type": "stream",
     "text": [
      " The name of the month is April.\n"
     ]
    }
   ],
   "source": [
    "# 21\n",
    "num=int(input(\"Please enter the number of the month: \"))\n",
    "\n",
    "if num== 1:\n",
    "    month=\"January\"\n",
    "elif num==2:\n",
    "    month=\"Feburary\"\n",
    "elif num==3:\n",
    "    month=\"March\"\n",
    "elif num==4:\n",
    "    month=\"April\"\n",
    "elif num==5:\n",
    "    month=\"May\"\n",
    "elif num==6:\n",
    "    month=\"June\"\n",
    "elif num==7:\n",
    "    month=\"July\"\n",
    "elif num==8:\n",
    "    month=\"August\"\n",
    "elif num==9:\n",
    "    month=\"september\"\n",
    "elif num==10:\n",
    "    month=\"october\"\n",
    "elif num==11:\n",
    "    month=\"November\"\n",
    "elif num==12:\n",
    "    month=\"december\"\n",
    "\n",
    "print(f\"The name of the month is {month}.\")"
   ]
  },
  {
   "cell_type": "code",
   "execution_count": 14,
   "id": "6768fb9f-2b55-49cf-89f5-1947b1a44d99",
   "metadata": {},
   "outputs": [
    {
     "name": "stdin",
     "output_type": "stream",
     "text": [
      "Enter the first number: 22\n",
      "Enter the second number: 21\n",
      "Enter the third number: 23\n"
     ]
    },
    {
     "name": "stdout",
     "output_type": "stream",
     "text": [
      "The largest number is 23.0.\n"
     ]
    }
   ],
   "source": [
    "# 22\n",
    "from sys import exit\n",
    "num1=float(input(\"Enter the first number:\"))\n",
    "num2=float(input(\"Enter the second number:\"))\n",
    "num3=float(input(\"Enter the third number:\"))\n",
    "if num1==num2 or num2==num3 or num3==num1 :\n",
    "    print(\"enter 3 different numbers\")\n",
    "    exit(0)\n",
    "else:\n",
    "    print(f\"The largest number is {max(num1,num2,num3)}.\")"
   ]
  },
  {
   "cell_type": "code",
   "execution_count": 20,
   "id": "0cb8f90a-da73-40bd-a688-3931b3b93970",
   "metadata": {},
   "outputs": [
    {
     "name": "stdin",
     "output_type": "stream",
     "text": [
      "Is the car silent when you turn the key? n\n",
      "Does the car make clicking noise? n\n",
      "Does the car crank up but fail to start? n\n",
      " Does the engine start and then die? y\n",
      "Does your have fuel injection? n\n"
     ]
    },
    {
     "name": "stdout",
     "output_type": "stream",
     "text": [
      "Check to ensure the choke is opening and closing\n"
     ]
    }
   ],
   "source": [
    "# 23\n",
    "car=input(\"Is the car silent when you turn the key?\")\n",
    "if car==\"y\":\n",
    "    corroded=input(\"Are the battery terminals corroded?\")\n",
    "    if correded == \"y\":\n",
    "        print(\" Clean terminals and try starting again.\")\n",
    "    elif corroded==\"n\":\n",
    "        print(\"The battery cables may be damaged.\\nReplace cables and try again.\")\n",
    "if car == \"n\":\n",
    "    noice=input(\"Does the car make clicking noise?\")\n",
    "    if noice==\"y\":\n",
    "        print(\"Replace the battery\")\n",
    "    elif noice == \"n\":\n",
    "        crank=input(\"Does the car crank up but fail to start?\")\n",
    "        if crank==\"y\":\n",
    "            print(\"Check spark plug connections.\")\n",
    "        elif crank==\"n\":\n",
    "            startdie=input(\" Does the engine start and then die?\")\n",
    "            if startdie==\"y\":\n",
    "                injection=input(\"Does your have fuel injection?\")\n",
    "                if injection==\"y\":\n",
    "                    print(\"Get it in for service\")\n",
    "                elif injection==\"n\":\n",
    "                    print(\"Check to ensure the choke is opening and closing\")\n",
    "                "
   ]
  },
  {
   "cell_type": "code",
   "execution_count": 24,
   "id": "15f1b52d-4674-42ac-8d69-761923d08d64",
   "metadata": {},
   "outputs": [
    {
     "name": "stdout",
     "output_type": "stream",
     "text": [
      "Enter two strings and I'll tell you if they\n",
      "are anagrams:\n"
     ]
    },
    {
     "name": "stdin",
     "output_type": "stream",
     "text": [
      "Enter the first string: toone\n",
      "Enter thr second string: noote\n"
     ]
    },
    {
     "name": "stdout",
     "output_type": "stream",
     "text": [
      " 'toone' and 'noote' are anagrams.\n"
     ]
    }
   ],
   "source": [
    "# 24\n",
    "def isAnagram(str1,str2):\n",
    "    if len(str1.lower())==len(str2.lower()):\n",
    "        if sorted(str1) == sorted(str2):\n",
    "            print(f\"'{str1}' and '{str2}' are anagrams.\")\n",
    "    else:\n",
    "        print(\"Not anagram\")\n",
    "\n",
    "print(\"Enter two strings and I'll tell you if they\\nare anagrams:\")\n",
    "string1=input(\"Enter the first string:\")\n",
    "string2=input(\"Enter thr second string:\")\n",
    "isAnagram(string1,string2)"
   ]
  },
  {
   "cell_type": "code",
   "execution_count": null,
   "id": "fdfc0073-7ab5-48c2-bf2c-c50e5f4e574c",
   "metadata": {},
   "outputs": [],
   "source": [
    "# 25\n",
    "def passwordValidator(password):\n",
    "    "
   ]
  }
 ],
 "metadata": {
  "kernelspec": {
   "display_name": "Python 3 (ipykernel)",
   "language": "python",
   "name": "python3"
  },
  "language_info": {
   "codemirror_mode": {
    "name": "ipython",
    "version": 3
   },
   "file_extension": ".py",
   "mimetype": "text/x-python",
   "name": "python",
   "nbconvert_exporter": "python",
   "pygments_lexer": "ipython3",
   "version": "3.13.5"
  }
 },
 "nbformat": 4,
 "nbformat_minor": 5
}
