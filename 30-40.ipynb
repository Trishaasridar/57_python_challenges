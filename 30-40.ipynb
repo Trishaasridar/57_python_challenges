{
 "cells": [
  {
   "cell_type": "code",
   "execution_count": 13,
   "id": "3870efaf-b334-49c7-862d-8f013d87368c",
   "metadata": {},
   "outputs": [
    {
     "name": "stdin",
     "output_type": "stream",
     "text": [
      "What is the rate of return? 0\n"
     ]
    },
    {
     "name": "stdout",
     "output_type": "stream",
     "text": [
      "sorry invalid input\n"
     ]
    },
    {
     "name": "stdin",
     "output_type": "stream",
     "text": [
      "What is the rate of return? sd\n"
     ]
    },
    {
     "name": "stdout",
     "output_type": "stream",
     "text": [
      "sorry invalid input\n"
     ]
    },
    {
     "name": "stdin",
     "output_type": "stream",
     "text": [
      "What is the rate of return? 2\n"
     ]
    },
    {
     "name": "stdout",
     "output_type": "stream",
     "text": [
      "It will take 36.0 years to double your initial investment.\n"
     ]
    }
   ],
   "source": [
    "# 29\n",
    "#loops until the break\n",
    "while True:\n",
    "    rate=input(\"What is the rate of return?\")\n",
    "    if rate == \"0\":\n",
    "        print(\"sorry invalid input\")   \n",
    "    elif not rate.isdigit(): # checks if rate is not digit\n",
    "        print(\"sorry invalid input\")\n",
    "    else : \n",
    "        break # breaks the loop if it is a integer\n",
    "rate= int(rate)\n",
    "year=72/ rate\n",
    "print(f\"It will take {year} years to double your initial investment.\")"
   ]
  },
  {
   "cell_type": "code",
   "execution_count": 30,
   "id": "de97d78c-cd36-4364-8710-56da611b1446",
   "metadata": {},
   "outputs": [
    {
     "name": "stdin",
     "output_type": "stream",
     "text": [
      "Resting pulse? 65\n",
      "Age: 22\n"
     ]
    },
    {
     "name": "stdout",
     "output_type": "stream",
     "text": [
      "Resting Pulse:65\t Age:22\n",
      "Intensity\t|Rate\n",
      "------------------------------\n",
      "55%\t\t|138 bpm\n",
      "60%\t\t|145 bpm\n",
      "65%\t\t|151 bpm\n",
      "70%\t\t|158 bpm\n",
      "75%\t\t|165 bpm\n",
      "80%\t\t|171 bpm\n",
      "85%\t\t|178 bpm\n",
      "90%\t\t|185 bpm\n",
      "95%\t\t|191 bpm\n"
     ]
    }
   ],
   "source": [
    "# 31\n",
    "pulse=int(input(\"Resting pulse?\")) # assigning integer input to variable pulse\n",
    "age=int(input(\"Age:\"))\n",
    "print(f\"Resting Pulse:{pulse}\\t Age:{age}\")\n",
    "print(\"Intensity\\t|Rate\")\n",
    "print(\"-\" * 30) # prints the - 30 times\n",
    "for i in range(55,96,5): # looping between 55 to 95 numbers in the interval of 5\n",
    "    intensity=i/100\n",
    "    rate=(((220-age)-pulse)*intensity)+pulse\n",
    "    r=round(rate)\n",
    "    print(f\"{i}%\\t\\t|{r} bpm\") # printing bpm for every intensity \n",
    "    # using \\t for tab "
   ]
  },
  {
   "cell_type": "code",
   "execution_count": 10,
   "id": "ca381333-994a-4a93-bd32-d909f4fba8a3",
   "metadata": {},
   "outputs": [
    {
     "name": "stdout",
     "output_type": "stream",
     "text": [
      "Let's play Guess the Number.\n"
     ]
    },
    {
     "name": "stdin",
     "output_type": "stream",
     "text": [
      "Pick a difficulty level (1, 2, or 3): 1\n",
      "I have my number. what's your guess 6\n",
      "Too high. Guess again: 3\n",
      "Too high. Guess again: 1\n"
     ]
    },
    {
     "name": "stdout",
     "output_type": "stream",
     "text": [
      "You got it in 3 guesses!\n"
     ]
    },
    {
     "name": "stdin",
     "output_type": "stream",
     "text": [
      "play again? for yes : 'y' for no : 'n'  n\n"
     ]
    },
    {
     "name": "stdout",
     "output_type": "stream",
     "text": [
      "goodbye!\n"
     ]
    }
   ],
   "source": [
    "# 32\n",
    "import random # impoting for random number generation\n",
    "# defining function for difficulty level\n",
    "def difficultyLevel(level): \n",
    "    if level ==1: # if it is level one\n",
    "        number=random.randint(1,10) # generates random no between 1 to 10\n",
    "        n=int(input(\"I have my number. what's your guess\"))\n",
    "        for count in range(10):\n",
    "            if n > number: #if the given value is greater than generated value\n",
    "                n=int(input(\"Too high. Guess again:\"))\n",
    "            elif n < number: #if the given value is lesser than generated value\n",
    "                n=int(input(\"Too low. Guess again:\"))\n",
    "            elif n== number: #the no of time executed is count+1\n",
    "                print(f\"You got it in {count+1} guesses!\")\n",
    "                break\n",
    "    \n",
    "    elif level ==2:\n",
    "        number=random.randint(1,100) # generates no between 1 to 100\n",
    "        n=int(input(\"I have my number. what's your guess\"))\n",
    "        for count in range(100):\n",
    "            if n > number:\n",
    "                n=int(input(\"Too high. Guess again:\"))\n",
    "            elif n < number:\n",
    "                n=int(input(\"Too low. Guess again:\"))\n",
    "            elif n== number:\n",
    "                print(f\"You got it in {count+1} guesses!\")\n",
    "                break # after the level ends it breaks\n",
    "    \n",
    "    elif level == 3:\n",
    "        number=random.randint(1,1000)\n",
    "        n=int(input(\"I have my number. what's your guess\"))\n",
    "        for count in range(1000):\n",
    "            if n > number:\n",
    "                n=int(input(\"Too high. Guess again:\"))\n",
    "            elif n < number:\n",
    "                n=int(input(\"Too low. Guess again:\"))\n",
    "            elif n== number:\n",
    "                print(f\"You got it in {count+1} guesses!\")\n",
    "                break\n",
    "\n",
    "print(\"Let's play Guess the Number.\")\n",
    "level=int(input(\"Pick a difficulty level (1, 2, or 3):\"))\n",
    "difficultyLevel(level) # calling the function \n",
    "again=input(\"play again? for yes : 'y' for no : 'n' \")\n",
    "if again == \"y\": # if we need to play again\n",
    "    level=int(input(\"Pick a difficulty level (1, 2, or 3):\"))\n",
    "    difficultyLevel(level) # calls the function\n",
    "elif again == \"n\" :\n",
    "    print(\"goodbye!\")"
   ]
  },
  {
   "cell_type": "code",
   "execution_count": 19,
   "id": "1039d0ee-303e-45ab-817d-5ea4d782036a",
   "metadata": {},
   "outputs": [
    {
     "name": "stdin",
     "output_type": "stream",
     "text": [
      "What's your question? will i become a doctor\n"
     ]
    },
    {
     "name": "stdout",
     "output_type": "stream",
     "text": [
      "Maybe\n"
     ]
    }
   ],
   "source": [
    "# 33\n",
    "import random\n",
    "list=[\"Yes\",\"No\",\"Maybe\",\"Ask Again Later\"] # strings need to be responded\n",
    "question=input(\"What's your question?\")\n",
    "print(random.choice(list)) # randomly chooses answer from the list "
   ]
  },
  {
   "cell_type": "code",
   "execution_count": 22,
   "id": "395a10c7-4d30-469f-9715-a1c175a0b8fb",
   "metadata": {},
   "outputs": [
    {
     "name": "stdout",
     "output_type": "stream",
     "text": [
      "There are 5 employees:\n",
      "raja\n",
      "ravi\n",
      "varma\n",
      "kaaba\n",
      "koobal\n"
     ]
    },
    {
     "name": "stdin",
     "output_type": "stream",
     "text": [
      "Enter an employee name to remove: koobal\n"
     ]
    },
    {
     "name": "stdout",
     "output_type": "stream",
     "text": [
      "There are 4 employees:\n",
      "raja\n",
      "ravi\n",
      "varma\n",
      "kaaba\n"
     ]
    }
   ],
   "source": [
    "# 34\n",
    "# to print the list\n",
    "def givename(employees):\n",
    "    print(f\"There are {len(employees)} employees:\")\n",
    "    for name in employees:\n",
    "        print(name)\n",
    "# to remove the one employee from the list\n",
    "def removing(employee,remove_person):\n",
    "    employee.remove(remove_person) # used to remove the list element\n",
    "    givename(employees) # calls the function to print the modified list\n",
    "    \n",
    "employees=[\"raja\",\"ravi\",\"varma\",\"kaaba\",\"koobal\"]\n",
    "givename(employees) # calls the function givename\n",
    "remove_person=input(\"Enter an employee name to remove:\")\n",
    "removing(employees,remove_person) # calls function to remove that person"
   ]
  },
  {
   "cell_type": "code",
   "execution_count": 27,
   "id": "85a67e3a-b93a-419e-b587-11b218c2ecd2",
   "metadata": {},
   "outputs": [
    {
     "name": "stdin",
     "output_type": "stream",
     "text": [
      "Enter a name: koobal\n",
      "Enter a name: govindha\n",
      "Enter a name: arogara\n",
      "Enter a name: venkatramana\n",
      "Enter a name: shrinivasha\n",
      "Enter a name: \n"
     ]
    },
    {
     "name": "stdout",
     "output_type": "stream",
     "text": [
      "The winner is...shrinivasha\n"
     ]
    }
   ],
   "source": [
    "# 35\n",
    "import random\n",
    "array=[] # assigns empty list\n",
    "while True: # loopes until it breaks\n",
    "    name=input(\"Enter a name:\")\n",
    "    if name == \"\": # if name = no value it breaks\n",
    "        break\n",
    "    else:\n",
    "        array.append(name) # it appends the element into list\n",
    "\n",
    "print(f\"The winner is...{random.choice(array)}\") # choose the name randomly from list"
   ]
  },
  {
   "cell_type": "code",
   "execution_count": 41,
   "id": "697cbc2b-9296-402a-88ce-803d8539c107",
   "metadata": {},
   "outputs": [
    {
     "name": "stdin",
     "output_type": "stream",
     "text": [
      "Enter a number: 23\n",
      "Enter a number: 23\n",
      "Enter a number: 34\n",
      "Enter a number: done\n"
     ]
    },
    {
     "name": "stdout",
     "output_type": "stream",
     "text": [
      "Numbers: 23 23 34\n",
      "The average is 26.666666666666668\n",
      "The minimum is 23\n",
      "The maximum is 34\n",
      "The Standard Deviation is: 6.35\n"
     ]
    }
   ],
   "source": [
    "# 36\n",
    "import statistics # importing statistics\n",
    "numbers=[]\n",
    "while True : \n",
    "    num=input(\"Enter a number:\")\n",
    "    if num ==\"done\": # if number is equal to done then breaks\n",
    "        break\n",
    "    else :\n",
    "        numbers.append(int(num)) # it appends the element to string \n",
    "\n",
    "print(f\"Numbers: {\" \".join(map(str,numbers))}\") # joins the lists to integers\n",
    "\n",
    "average = sum(numbers) / len(numbers) # calculate average by sum and len functions\n",
    "print(f\"The average is {average}\") \n",
    "print(f\"The minimum is {min(numbers)}\") # min () prints min value\n",
    "print(f\"The maximum is {max(numbers)}\") # max () prints max value\n",
    "\n",
    "print(f\"The Standard Deviation is: {statistics.stdev(numbers):.2f}\") # to fing std dev with 2 decimal points\n"
   ]
  },
  {
   "cell_type": "code",
   "execution_count": 37,
   "id": "ee767c6a-cdfe-49ca-aca7-f5f22ba16738",
   "metadata": {},
   "outputs": [
    {
     "name": "stdin",
     "output_type": "stream",
     "text": [
      "What's the minimun length? 098\n",
      "How many special characters? 3\n",
      "How many numbers? 34\n"
     ]
    },
    {
     "name": "stdout",
     "output_type": "stream",
     "text": [
      "your password is\n",
      "8772m5t22je6gisymxfb%8iwxg2s@3ev2osb4m08n5h43l6ejc1ahpvb8ispi914x2ma8mh21lik@yi2s89hgyefks3dgd44xe\n"
     ]
    }
   ],
   "source": [
    "# 37\n",
    "import random\n",
    "length=int(input(\"What's the minimun length?\"))\n",
    "spchar=int(input(\"How many special characters?\"))\n",
    "number=int(input(\"How many numbers?\"))\n",
    "\n",
    "# assigning list to variable\n",
    "special_char=list(\"!@#$%^&*7`~\")\n",
    "alphabets=list(\"abcdefghijklmnopqrstuvwxyz\") # changing the string to alphabets \n",
    "password=[]\n",
    "\n",
    "if number+spchar <= length: \n",
    "    for p in range(number):\n",
    "        password.append(str(random.randint(0,9))) # appending the random number \n",
    "    for p in range(spchar):\n",
    "        password.append(random.choice(special_char)) # appending the special characters\n",
    "        diff=length-len(password) \n",
    "    for p in range(diff): \n",
    "        password.append(random.choice(alphabets)) # giving alphabets upto remaing length\n",
    "else:\n",
    "    print(\"invalid input\")\n",
    "\n",
    "random.shuffle(password) # shuffling the list\n",
    "print(f\"your password is\\n{\"\".join(password)}\") # joining the list to string"
   ]
  },
  {
   "cell_type": "code",
   "execution_count": 62,
   "id": "1ed54236-739c-44ae-b2d1-40fd13d12a21",
   "metadata": {},
   "outputs": [
    {
     "name": "stdin",
     "output_type": "stream",
     "text": [
      "Enter a list of numbers, seperated by spaces:  2 3 4 5 6 7 8\n"
     ]
    },
    {
     "name": "stdout",
     "output_type": "stream",
     "text": [
      "The even numbers are [2, 4, 6, 8]\n"
     ]
    }
   ],
   "source": [
    "#38\n",
    "def filterEvenNumbers(number):\n",
    "    even = [] # assigning empty list\n",
    "    for no in number:\n",
    "        no = int(no) # changing string to int\n",
    "        if (no % 2) == 0: # checks if its divisable by 2\n",
    "            even.append(no) # if yes it appends the int to list\n",
    "        else:\n",
    "            pass # else pass it\n",
    "    print(f\"The even numbers are {even}\")\n",
    "\n",
    "number = input(\"Enter a list of numbers, seperated by spaces: \").split() # split used to create list by spaces\n",
    "filterEvenNumbers(number) # calls the function\n"
   ]
  },
  {
   "cell_type": "code",
   "execution_count": 40,
   "id": "73030012-58d0-4266-a2b7-e73eafc5c4b2",
   "metadata": {},
   "outputs": [
    {
     "name": "stdout",
     "output_type": "stream",
     "text": [
      " Name                | Position             |Separation Date      \n",
      "------------------------------------------------------------\n",
      "Jacquelyn Jackson    | DBA                  | \n",
      "Jake Jacobson        | Programmer           | \n",
      "John Johnson         | Manager              | 2016-12-31\n",
      "Michaela Michaelson  | District Manager     | 2015-12-19\n",
      "Sally Weber          | Web Developer        | 2015-12-18\n",
      "Tou Xiong            | Software Engineer    | 2016-10-05\n"
     ]
    }
   ],
   "source": [
    "# 39\n",
    "# assigning the list of dictonaries to the variabe\n",
    "data= [\n",
    "    {\"first_name\": \"John\", \"last_name\": \"Johnson\", \"position\": \"Manager\", \"separation_date\": \"2016-12-31\"},\n",
    "    {\"first_name\": \"Tou\", \"last_name\": \"Xiong\", \"position\": \"Software Engineer\", \"separation_date\": \"2016-10-05\"},\n",
    "    {\"first_name\": \"Michaela\", \"last_name\": \"Michaelson\", \"position\": \"District Manager\", \"separation_date\": \"2015-12-19\"},\n",
    "    {\"first_name\": \"Jake\", \"last_name\": \"Jacobson\", \"position\": \"Programmer\", \"separation_date\": \"\"},\n",
    "    {\"first_name\": \"Jacquelyn\", \"last_name\": \"Jackson\", \"position\": \"DBA\", \"separation_date\": \"\"},\n",
    "    {\"first_name\": \"Sally\", \"last_name\": \"Weber\", \"position\": \"Web Developer\", \"separation_date\": \"2015-12-18\"},\n",
    "]\n",
    "#using sorted() for sorting each dictonaries in the list by key : last name\n",
    "# using lambda function to return every lastname string in the dictionary \n",
    "data = sorted(data, key=lambda x: x[\"last_name\"])\n",
    "\n",
    "print(f\" {'Name':<20}| {'Position':<20} |{'Separation Date':<20} \")\n",
    "# using :<20 for assigning the string to the left with 20 spaces\n",
    "print(\"-\" * 60)  # prints 60 \"-\"\n",
    "for sorteddata in data: # to print the data in order\n",
    "    name = f\"{sorteddata['first_name']} {sorteddata['last_name']}\"\n",
    "    print(f\"{name:<20} | {sorteddata['position']:<20} | {sorteddata['separation_date']}\")\n"
   ]
  },
  {
   "cell_type": "code",
   "execution_count": 56,
   "id": "2fe646d8-bc55-43b3-9745-d25a68386019",
   "metadata": {},
   "outputs": [
    {
     "name": "stdin",
     "output_type": "stream",
     "text": [
      "Enter a search string: j\n"
     ]
    },
    {
     "name": "stdout",
     "output_type": "stream",
     "text": [
      "Name                | Position             | Separation Date\n",
      "------------------------------------------------------------\n",
      "John Johnson        | Manager              |2016-12-31          \n",
      "Jake Jacobson       | Programmer           |                    \n",
      "Jacquelyn Jackson   | DBA                  |                    \n"
     ]
    }
   ],
   "source": [
    "# 40\n",
    "#  assigning the list of dictonaries to the variabe\n",
    "data = [\n",
    "    {\"first_name\": \"John\", \"last_name\": \"Johnson\", \"position\": \"Manager\", \"separation_date\": \"2016-12-31\"},\n",
    "    {\"first_name\": \"Tou\", \"last_name\": \"Xiong\", \"position\": \"Software Engineer\", \"separation_date\": \"2016-10-05\"},\n",
    "    {\"first_name\": \"Michaela\", \"last_name\": \"Michaelson\", \"position\": \"District Manager\", \"separation_date\": \"2015-12-19\"},\n",
    "    {\"first_name\": \"Jake\", \"last_name\": \"Jacobson\", \"position\": \"Programmer\", \"separation_date\": \"\"},\n",
    "    {\"first_name\": \"Jacquelyn\", \"last_name\": \"Jackson\", \"position\": \"DBA\", \"separation_date\": \"\"},\n",
    "    {\"first_name\": \"Sally\", \"last_name\": \"Weber\", \"position\": \"Web Developer\", \"separation_date\": \"\"}\n",
    "]\n",
    "# getting string input and converting it to lower case\n",
    "string=input(\"Enter a search string:\").lower()\n",
    "\n",
    "# using the filter funtion to filter the data by first and last names\n",
    "# using lambda funtion to get the value from data which contains the string we got from input\n",
    "# changing the names to lower case by lower()\n",
    "filtered_data=list(filter(lambda x: string in x[\"first_name\"].lower() or string in x[\"last_name\"].lower(),data))\n",
    "\n",
    "# gives 20 character spaces and prints the string from left side\n",
    "print(f\"{'Name':<20}| {'Position':<20} | {'Separation Date'}\")\n",
    "print(\"-\" * 60)\n",
    "# for loop prints the filtered data\n",
    "for d in filtered_data:\n",
    "    name=f\"{d['first_name']} {d['last_name']} \"\n",
    "    print(f\"{name:<20}| {d['position']:<20} |{d['separation_date']:<20}\")\n",
    "\n"
   ]
  },
  {
   "cell_type": "code",
   "execution_count": null,
   "id": "d7eb1ea4-31cf-4d63-978a-4ed88d605526",
   "metadata": {},
   "outputs": [],
   "source": []
  }
 ],
 "metadata": {
  "kernelspec": {
   "display_name": "Python 3 (ipykernel)",
   "language": "python",
   "name": "python3"
  },
  "language_info": {
   "codemirror_mode": {
    "name": "ipython",
    "version": 3
   },
   "file_extension": ".py",
   "mimetype": "text/x-python",
   "name": "python",
   "nbconvert_exporter": "python",
   "pygments_lexer": "ipython3",
   "version": "3.13.5"
  }
 },
 "nbformat": 4,
 "nbformat_minor": 5
}
